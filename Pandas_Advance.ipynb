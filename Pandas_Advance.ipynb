{
 "cells": [
  {
   "cell_type": "markdown",
   "id": "25f16238",
   "metadata": {},
   "source": [
    "### Pandas Advance"
   ]
  },
  {
   "cell_type": "code",
   "execution_count": 164,
   "id": "e9cb68b9",
   "metadata": {},
   "outputs": [],
   "source": [
    "import pandas as pd\n",
    "import numpy as np\n",
    "import os"
   ]
  },
  {
   "cell_type": "code",
   "execution_count": 165,
   "id": "7d0c8b5a",
   "metadata": {},
   "outputs": [
    {
     "data": {
      "text/plain": [
       "'C:\\\\Users\\\\mdmes\\\\OneDrive\\\\Desktop\\\\Pandas Data\\\\health_monitor_data.csv'"
      ]
     },
     "execution_count": 165,
     "metadata": {},
     "output_type": "execute_result"
    }
   ],
   "source": [
    "Practise_Data='C:\\\\Users\\\\mdmes\\\\OneDrive\\\\Desktop\\\\Pandas Data'\n",
    "dataset_path=os.path.join(Practise_Data,'health_monitor_data.csv')\n",
    "\n",
    "dataset_path"
   ]
  },
  {
   "cell_type": "markdown",
   "id": "43ecb757",
   "metadata": {},
   "source": [
    "### Load Data"
   ]
  },
  {
   "cell_type": "code",
   "execution_count": 166,
   "id": "4264f267",
   "metadata": {},
   "outputs": [
    {
     "data": {
      "text/html": [
       "<div>\n",
       "<style scoped>\n",
       "    .dataframe tbody tr th:only-of-type {\n",
       "        vertical-align: middle;\n",
       "    }\n",
       "\n",
       "    .dataframe tbody tr th {\n",
       "        vertical-align: top;\n",
       "    }\n",
       "\n",
       "    .dataframe thead th {\n",
       "        text-align: right;\n",
       "    }\n",
       "</style>\n",
       "<table border=\"1\" class=\"dataframe\">\n",
       "  <thead>\n",
       "    <tr style=\"text-align: right;\">\n",
       "      <th></th>\n",
       "      <th>Duration</th>\n",
       "      <th>Date</th>\n",
       "      <th>Pulse</th>\n",
       "      <th>Maxpulse</th>\n",
       "      <th>Calories</th>\n",
       "      <th>Type</th>\n",
       "    </tr>\n",
       "  </thead>\n",
       "  <tbody>\n",
       "    <tr>\n",
       "      <th>0</th>\n",
       "      <td>60</td>\n",
       "      <td>'2020/12/01'</td>\n",
       "      <td>110</td>\n",
       "      <td>130</td>\n",
       "      <td>409.1</td>\n",
       "      <td>Easy</td>\n",
       "    </tr>\n",
       "    <tr>\n",
       "      <th>1</th>\n",
       "      <td>60</td>\n",
       "      <td>'2020/12/02'</td>\n",
       "      <td>117</td>\n",
       "      <td>145</td>\n",
       "      <td>479.0</td>\n",
       "      <td>Moderate</td>\n",
       "    </tr>\n",
       "    <tr>\n",
       "      <th>2</th>\n",
       "      <td>60</td>\n",
       "      <td>'2020/12/03'</td>\n",
       "      <td>103</td>\n",
       "      <td>135</td>\n",
       "      <td>340.0</td>\n",
       "      <td>Moderate</td>\n",
       "    </tr>\n",
       "    <tr>\n",
       "      <th>3</th>\n",
       "      <td>45</td>\n",
       "      <td>'2020/12/04'</td>\n",
       "      <td>109</td>\n",
       "      <td>175</td>\n",
       "      <td>282.4</td>\n",
       "      <td>Moderate</td>\n",
       "    </tr>\n",
       "    <tr>\n",
       "      <th>4</th>\n",
       "      <td>45</td>\n",
       "      <td>'2020/12/05'</td>\n",
       "      <td>117</td>\n",
       "      <td>148</td>\n",
       "      <td>406.0</td>\n",
       "      <td>Heavy</td>\n",
       "    </tr>\n",
       "  </tbody>\n",
       "</table>\n",
       "</div>"
      ],
      "text/plain": [
       "   Duration          Date  Pulse  Maxpulse  Calories      Type\n",
       "0        60  '2020/12/01'    110       130     409.1      Easy\n",
       "1        60  '2020/12/02'    117       145     479.0  Moderate\n",
       "2        60  '2020/12/03'    103       135     340.0  Moderate\n",
       "3        45  '2020/12/04'    109       175     282.4  Moderate\n",
       "4        45  '2020/12/05'    117       148     406.0     Heavy"
      ]
     },
     "execution_count": 166,
     "metadata": {},
     "output_type": "execute_result"
    }
   ],
   "source": [
    "health_data=pd.read_csv(\n",
    "    dataset_path\n",
    ")\n",
    "health_data.head()"
   ]
  },
  {
   "cell_type": "markdown",
   "id": "fb74ae89",
   "metadata": {},
   "source": [
    "### Data cleaning"
   ]
  },
  {
   "cell_type": "code",
   "execution_count": 167,
   "id": "c2779b7e",
   "metadata": {},
   "outputs": [
    {
     "name": "stdout",
     "output_type": "stream",
     "text": [
      "<class 'pandas.core.frame.DataFrame'>\n",
      "Index: 33 entries, 0 to 32\n",
      "Data columns (total 6 columns):\n",
      " #   Column    Non-Null Count  Dtype  \n",
      "---  ------    --------------  -----  \n",
      " 0   Duration  33 non-null     int64  \n",
      " 1   Date      32 non-null     object \n",
      " 2   Pulse     33 non-null     int64  \n",
      " 3   Maxpulse  33 non-null     int64  \n",
      " 4   Calories  31 non-null     float64\n",
      " 5   Type      33 non-null     object \n",
      "dtypes: float64(1), int64(3), object(2)\n",
      "memory usage: 1.8+ KB\n"
     ]
    }
   ],
   "source": [
    "health_data.info()"
   ]
  },
  {
   "cell_type": "code",
   "execution_count": 168,
   "id": "3a8543f9",
   "metadata": {},
   "outputs": [
    {
     "data": {
      "text/plain": [
       "' \\nmissing value handaling\\n1. remove data row (when data set is large)\\n2. input number in missing value (when data set is small)\\n'"
      ]
     },
     "execution_count": 168,
     "metadata": {},
     "output_type": "execute_result"
    }
   ],
   "source": [
    "''' \n",
    "missing value handaling\n",
    "1. remove data row (when data set is large)\n",
    "2. input number in missing value (when data set is small)\n",
    "'''"
   ]
  },
  {
   "cell_type": "code",
   "execution_count": 169,
   "id": "3f3332d3",
   "metadata": {},
   "outputs": [
    {
     "data": {
      "text/plain": [
       "0     False\n",
       "1     False\n",
       "2     False\n",
       "3     False\n",
       "4     False\n",
       "5     False\n",
       "6     False\n",
       "7     False\n",
       "8     False\n",
       "9     False\n",
       "10    False\n",
       "11    False\n",
       "12    False\n",
       "13    False\n",
       "14    False\n",
       "15    False\n",
       "16    False\n",
       "17    False\n",
       "18     True\n",
       "19    False\n",
       "20    False\n",
       "21    False\n",
       "22     True\n",
       "23    False\n",
       "24    False\n",
       "25    False\n",
       "26    False\n",
       "27    False\n",
       "28     True\n",
       "29    False\n",
       "30    False\n",
       "31    False\n",
       "32    False\n",
       "dtype: bool"
      ]
     },
     "execution_count": 169,
     "metadata": {},
     "output_type": "execute_result"
    }
   ],
   "source": [
    "''' \n",
    "Create a mask for find null value in dataset\n",
    "'''\n",
    "mask = health_data.isnull().any(axis=1)\n",
    "mask"
   ]
  },
  {
   "cell_type": "code",
   "execution_count": 170,
   "id": "d73d2a8f",
   "metadata": {},
   "outputs": [
    {
     "data": {
      "text/html": [
       "<div>\n",
       "<style scoped>\n",
       "    .dataframe tbody tr th:only-of-type {\n",
       "        vertical-align: middle;\n",
       "    }\n",
       "\n",
       "    .dataframe tbody tr th {\n",
       "        vertical-align: top;\n",
       "    }\n",
       "\n",
       "    .dataframe thead th {\n",
       "        text-align: right;\n",
       "    }\n",
       "</style>\n",
       "<table border=\"1\" class=\"dataframe\">\n",
       "  <thead>\n",
       "    <tr style=\"text-align: right;\">\n",
       "      <th></th>\n",
       "      <th>Duration</th>\n",
       "      <th>Date</th>\n",
       "      <th>Pulse</th>\n",
       "      <th>Maxpulse</th>\n",
       "      <th>Calories</th>\n",
       "      <th>Type</th>\n",
       "    </tr>\n",
       "  </thead>\n",
       "  <tbody>\n",
       "    <tr>\n",
       "      <th>18</th>\n",
       "      <td>45</td>\n",
       "      <td>'2020/12/18'</td>\n",
       "      <td>90</td>\n",
       "      <td>112</td>\n",
       "      <td>NaN</td>\n",
       "      <td>Moderate</td>\n",
       "    </tr>\n",
       "    <tr>\n",
       "      <th>22</th>\n",
       "      <td>45</td>\n",
       "      <td>NaN</td>\n",
       "      <td>100</td>\n",
       "      <td>119</td>\n",
       "      <td>282.0</td>\n",
       "      <td>Moderate</td>\n",
       "    </tr>\n",
       "    <tr>\n",
       "      <th>28</th>\n",
       "      <td>60</td>\n",
       "      <td>'2020/12/28'</td>\n",
       "      <td>103</td>\n",
       "      <td>132</td>\n",
       "      <td>NaN</td>\n",
       "      <td>Heavy</td>\n",
       "    </tr>\n",
       "  </tbody>\n",
       "</table>\n",
       "</div>"
      ],
      "text/plain": [
       "    Duration          Date  Pulse  Maxpulse  Calories      Type\n",
       "18        45  '2020/12/18'     90       112       NaN  Moderate\n",
       "22        45           NaN    100       119     282.0  Moderate\n",
       "28        60  '2020/12/28'    103       132       NaN     Heavy"
      ]
     },
     "execution_count": 170,
     "metadata": {},
     "output_type": "execute_result"
    }
   ],
   "source": [
    "health_data[mask]"
   ]
  },
  {
   "cell_type": "code",
   "execution_count": 171,
   "id": "1f72d344",
   "metadata": {},
   "outputs": [
    {
     "name": "stdout",
     "output_type": "stream",
     "text": [
      "302.93870967741935\n"
     ]
    }
   ],
   "source": [
    "average_calories = health_data['Calories'].mean()\n",
    "print(average_calories)"
   ]
  },
  {
   "cell_type": "code",
   "execution_count": 172,
   "id": "c133c5ca",
   "metadata": {},
   "outputs": [
    {
     "data": {
      "text/html": [
       "<div>\n",
       "<style scoped>\n",
       "    .dataframe tbody tr th:only-of-type {\n",
       "        vertical-align: middle;\n",
       "    }\n",
       "\n",
       "    .dataframe tbody tr th {\n",
       "        vertical-align: top;\n",
       "    }\n",
       "\n",
       "    .dataframe thead th {\n",
       "        text-align: right;\n",
       "    }\n",
       "</style>\n",
       "<table border=\"1\" class=\"dataframe\">\n",
       "  <thead>\n",
       "    <tr style=\"text-align: right;\">\n",
       "      <th></th>\n",
       "      <th>Duration</th>\n",
       "      <th>Date</th>\n",
       "      <th>Pulse</th>\n",
       "      <th>Maxpulse</th>\n",
       "      <th>Calories</th>\n",
       "      <th>Type</th>\n",
       "    </tr>\n",
       "  </thead>\n",
       "  <tbody>\n",
       "    <tr>\n",
       "      <th>0</th>\n",
       "      <td>60</td>\n",
       "      <td>'2020/12/01'</td>\n",
       "      <td>110</td>\n",
       "      <td>130</td>\n",
       "      <td>409.10000</td>\n",
       "      <td>Easy</td>\n",
       "    </tr>\n",
       "    <tr>\n",
       "      <th>1</th>\n",
       "      <td>60</td>\n",
       "      <td>'2020/12/02'</td>\n",
       "      <td>117</td>\n",
       "      <td>145</td>\n",
       "      <td>479.00000</td>\n",
       "      <td>Moderate</td>\n",
       "    </tr>\n",
       "    <tr>\n",
       "      <th>2</th>\n",
       "      <td>60</td>\n",
       "      <td>'2020/12/03'</td>\n",
       "      <td>103</td>\n",
       "      <td>135</td>\n",
       "      <td>340.00000</td>\n",
       "      <td>Moderate</td>\n",
       "    </tr>\n",
       "    <tr>\n",
       "      <th>3</th>\n",
       "      <td>45</td>\n",
       "      <td>'2020/12/04'</td>\n",
       "      <td>109</td>\n",
       "      <td>175</td>\n",
       "      <td>282.40000</td>\n",
       "      <td>Moderate</td>\n",
       "    </tr>\n",
       "    <tr>\n",
       "      <th>4</th>\n",
       "      <td>45</td>\n",
       "      <td>'2020/12/05'</td>\n",
       "      <td>117</td>\n",
       "      <td>148</td>\n",
       "      <td>406.00000</td>\n",
       "      <td>Heavy</td>\n",
       "    </tr>\n",
       "    <tr>\n",
       "      <th>5</th>\n",
       "      <td>60</td>\n",
       "      <td>'2020/12/06'</td>\n",
       "      <td>102</td>\n",
       "      <td>127</td>\n",
       "      <td>300.00000</td>\n",
       "      <td>Easy</td>\n",
       "    </tr>\n",
       "    <tr>\n",
       "      <th>6</th>\n",
       "      <td>60</td>\n",
       "      <td>'2020/12/07'</td>\n",
       "      <td>110</td>\n",
       "      <td>136</td>\n",
       "      <td>374.00000</td>\n",
       "      <td>Moderate</td>\n",
       "    </tr>\n",
       "    <tr>\n",
       "      <th>7</th>\n",
       "      <td>450</td>\n",
       "      <td>'2020/12/08'</td>\n",
       "      <td>104</td>\n",
       "      <td>134</td>\n",
       "      <td>253.30000</td>\n",
       "      <td>Moderate</td>\n",
       "    </tr>\n",
       "    <tr>\n",
       "      <th>8</th>\n",
       "      <td>30</td>\n",
       "      <td>'2020/12/09'</td>\n",
       "      <td>109</td>\n",
       "      <td>133</td>\n",
       "      <td>195.10000</td>\n",
       "      <td>Heavy</td>\n",
       "    </tr>\n",
       "    <tr>\n",
       "      <th>9</th>\n",
       "      <td>60</td>\n",
       "      <td>'2020/12/10'</td>\n",
       "      <td>98</td>\n",
       "      <td>124</td>\n",
       "      <td>269.00000</td>\n",
       "      <td>Moderate</td>\n",
       "    </tr>\n",
       "    <tr>\n",
       "      <th>10</th>\n",
       "      <td>60</td>\n",
       "      <td>'2020/12/11'</td>\n",
       "      <td>103</td>\n",
       "      <td>147</td>\n",
       "      <td>329.30000</td>\n",
       "      <td>Moderate</td>\n",
       "    </tr>\n",
       "    <tr>\n",
       "      <th>11</th>\n",
       "      <td>60</td>\n",
       "      <td>'2020/12/12'</td>\n",
       "      <td>100</td>\n",
       "      <td>120</td>\n",
       "      <td>250.70000</td>\n",
       "      <td>Moderate</td>\n",
       "    </tr>\n",
       "    <tr>\n",
       "      <th>12</th>\n",
       "      <td>60</td>\n",
       "      <td>'2020/12/12'</td>\n",
       "      <td>100</td>\n",
       "      <td>120</td>\n",
       "      <td>250.70000</td>\n",
       "      <td>Heavy</td>\n",
       "    </tr>\n",
       "    <tr>\n",
       "      <th>13</th>\n",
       "      <td>60</td>\n",
       "      <td>'2020/12/13'</td>\n",
       "      <td>106</td>\n",
       "      <td>128</td>\n",
       "      <td>345.30000</td>\n",
       "      <td>Easy</td>\n",
       "    </tr>\n",
       "    <tr>\n",
       "      <th>14</th>\n",
       "      <td>60</td>\n",
       "      <td>'2020/12/14'</td>\n",
       "      <td>104</td>\n",
       "      <td>132</td>\n",
       "      <td>379.30000</td>\n",
       "      <td>Moderate</td>\n",
       "    </tr>\n",
       "    <tr>\n",
       "      <th>15</th>\n",
       "      <td>60</td>\n",
       "      <td>'2020/12/15'</td>\n",
       "      <td>98</td>\n",
       "      <td>123</td>\n",
       "      <td>275.00000</td>\n",
       "      <td>Heavy</td>\n",
       "    </tr>\n",
       "    <tr>\n",
       "      <th>16</th>\n",
       "      <td>60</td>\n",
       "      <td>'2020/12/16'</td>\n",
       "      <td>98</td>\n",
       "      <td>120</td>\n",
       "      <td>215.20000</td>\n",
       "      <td>Moderate</td>\n",
       "    </tr>\n",
       "    <tr>\n",
       "      <th>17</th>\n",
       "      <td>60</td>\n",
       "      <td>'2020/12/17'</td>\n",
       "      <td>100</td>\n",
       "      <td>120</td>\n",
       "      <td>300.00000</td>\n",
       "      <td>Heavy</td>\n",
       "    </tr>\n",
       "    <tr>\n",
       "      <th>18</th>\n",
       "      <td>45</td>\n",
       "      <td>'2020/12/18'</td>\n",
       "      <td>90</td>\n",
       "      <td>112</td>\n",
       "      <td>302.93871</td>\n",
       "      <td>Moderate</td>\n",
       "    </tr>\n",
       "    <tr>\n",
       "      <th>19</th>\n",
       "      <td>60</td>\n",
       "      <td>'2020/12/19'</td>\n",
       "      <td>103</td>\n",
       "      <td>123</td>\n",
       "      <td>323.00000</td>\n",
       "      <td>Heavy</td>\n",
       "    </tr>\n",
       "  </tbody>\n",
       "</table>\n",
       "</div>"
      ],
      "text/plain": [
       "    Duration          Date  Pulse  Maxpulse   Calories      Type\n",
       "0         60  '2020/12/01'    110       130  409.10000      Easy\n",
       "1         60  '2020/12/02'    117       145  479.00000  Moderate\n",
       "2         60  '2020/12/03'    103       135  340.00000  Moderate\n",
       "3         45  '2020/12/04'    109       175  282.40000  Moderate\n",
       "4         45  '2020/12/05'    117       148  406.00000     Heavy\n",
       "5         60  '2020/12/06'    102       127  300.00000      Easy\n",
       "6         60  '2020/12/07'    110       136  374.00000  Moderate\n",
       "7        450  '2020/12/08'    104       134  253.30000  Moderate\n",
       "8         30  '2020/12/09'    109       133  195.10000     Heavy\n",
       "9         60  '2020/12/10'     98       124  269.00000  Moderate\n",
       "10        60  '2020/12/11'    103       147  329.30000  Moderate\n",
       "11        60  '2020/12/12'    100       120  250.70000  Moderate\n",
       "12        60  '2020/12/12'    100       120  250.70000     Heavy\n",
       "13        60  '2020/12/13'    106       128  345.30000      Easy\n",
       "14        60  '2020/12/14'    104       132  379.30000  Moderate\n",
       "15        60  '2020/12/15'     98       123  275.00000     Heavy\n",
       "16        60  '2020/12/16'     98       120  215.20000  Moderate\n",
       "17        60  '2020/12/17'    100       120  300.00000     Heavy\n",
       "18        45  '2020/12/18'     90       112  302.93871  Moderate\n",
       "19        60  '2020/12/19'    103       123  323.00000     Heavy"
      ]
     },
     "execution_count": 172,
     "metadata": {},
     "output_type": "execute_result"
    }
   ],
   "source": [
    "health_data['Calories']=health_data['Calories'].fillna(\n",
    "    value=average_calories,\n",
    ")\n",
    "\n",
    "health_data.head(20)"
   ]
  },
  {
   "cell_type": "code",
   "execution_count": 173,
   "id": "c5a7f24d",
   "metadata": {},
   "outputs": [
    {
     "data": {
      "text/html": [
       "<div>\n",
       "<style scoped>\n",
       "    .dataframe tbody tr th:only-of-type {\n",
       "        vertical-align: middle;\n",
       "    }\n",
       "\n",
       "    .dataframe tbody tr th {\n",
       "        vertical-align: top;\n",
       "    }\n",
       "\n",
       "    .dataframe thead th {\n",
       "        text-align: right;\n",
       "    }\n",
       "</style>\n",
       "<table border=\"1\" class=\"dataframe\">\n",
       "  <thead>\n",
       "    <tr style=\"text-align: right;\">\n",
       "      <th></th>\n",
       "      <th>Duration</th>\n",
       "      <th>Date</th>\n",
       "      <th>Pulse</th>\n",
       "      <th>Maxpulse</th>\n",
       "      <th>Calories</th>\n",
       "      <th>Type</th>\n",
       "    </tr>\n",
       "  </thead>\n",
       "  <tbody>\n",
       "    <tr>\n",
       "      <th>22</th>\n",
       "      <td>45</td>\n",
       "      <td>NaN</td>\n",
       "      <td>100</td>\n",
       "      <td>119</td>\n",
       "      <td>282.0</td>\n",
       "      <td>Moderate</td>\n",
       "    </tr>\n",
       "  </tbody>\n",
       "</table>\n",
       "</div>"
      ],
      "text/plain": [
       "    Duration Date  Pulse  Maxpulse  Calories      Type\n",
       "22        45  NaN    100       119     282.0  Moderate"
      ]
     },
     "execution_count": 173,
     "metadata": {},
     "output_type": "execute_result"
    }
   ],
   "source": [
    "mask = health_data.isnull().any(axis=1)\n",
    "health_data[mask]"
   ]
  },
  {
   "cell_type": "code",
   "execution_count": 174,
   "id": "a6e3d1a7",
   "metadata": {},
   "outputs": [
    {
     "data": {
      "text/plain": [
       "Duration    0\n",
       "Date        0\n",
       "Pulse       0\n",
       "Maxpulse    0\n",
       "Calories    0\n",
       "Type        0\n",
       "dtype: int64"
      ]
     },
     "execution_count": 174,
     "metadata": {},
     "output_type": "execute_result"
    }
   ],
   "source": [
    "health_data = health_data.dropna()\n",
    "health_data.isnull().sum()"
   ]
  },
  {
   "cell_type": "code",
   "execution_count": 175,
   "id": "2faed032",
   "metadata": {},
   "outputs": [
    {
     "name": "stdout",
     "output_type": "stream",
     "text": [
      "<class 'pandas.core.frame.DataFrame'>\n",
      "Index: 32 entries, 0 to 32\n",
      "Data columns (total 6 columns):\n",
      " #   Column    Non-Null Count  Dtype  \n",
      "---  ------    --------------  -----  \n",
      " 0   Duration  32 non-null     int64  \n",
      " 1   Date      32 non-null     object \n",
      " 2   Pulse     32 non-null     int64  \n",
      " 3   Maxpulse  32 non-null     int64  \n",
      " 4   Calories  32 non-null     float64\n",
      " 5   Type      32 non-null     object \n",
      "dtypes: float64(1), int64(3), object(2)\n",
      "memory usage: 1.8+ KB\n"
     ]
    }
   ],
   "source": [
    "health_data.info()"
   ]
  },
  {
   "cell_type": "markdown",
   "id": "b7c2a64c",
   "metadata": {},
   "source": [
    "### Remove Duplicate"
   ]
  },
  {
   "cell_type": "code",
   "execution_count": 176,
   "id": "320b85d6",
   "metadata": {},
   "outputs": [
    {
     "name": "stdout",
     "output_type": "stream",
     "text": [
      "0     False\n",
      "1     False\n",
      "2     False\n",
      "3     False\n",
      "4     False\n",
      "5     False\n",
      "6     False\n",
      "7     False\n",
      "8     False\n",
      "9     False\n",
      "10    False\n",
      "11    False\n",
      "12    False\n",
      "13    False\n",
      "14    False\n",
      "15    False\n",
      "16    False\n",
      "17    False\n",
      "18    False\n",
      "19    False\n",
      "20    False\n",
      "21    False\n",
      "23    False\n",
      "24    False\n",
      "25    False\n",
      "26    False\n",
      "27    False\n",
      "28    False\n",
      "29    False\n",
      "30    False\n",
      "31    False\n",
      "32     True\n",
      "dtype: bool\n"
     ]
    }
   ],
   "source": [
    "mask = health_data.duplicated()\n",
    "print(mask)"
   ]
  },
  {
   "cell_type": "code",
   "execution_count": 177,
   "id": "f4975255",
   "metadata": {},
   "outputs": [
    {
     "data": {
      "text/html": [
       "<div>\n",
       "<style scoped>\n",
       "    .dataframe tbody tr th:only-of-type {\n",
       "        vertical-align: middle;\n",
       "    }\n",
       "\n",
       "    .dataframe tbody tr th {\n",
       "        vertical-align: top;\n",
       "    }\n",
       "\n",
       "    .dataframe thead th {\n",
       "        text-align: right;\n",
       "    }\n",
       "</style>\n",
       "<table border=\"1\" class=\"dataframe\">\n",
       "  <thead>\n",
       "    <tr style=\"text-align: right;\">\n",
       "      <th></th>\n",
       "      <th>Duration</th>\n",
       "      <th>Date</th>\n",
       "      <th>Pulse</th>\n",
       "      <th>Maxpulse</th>\n",
       "      <th>Calories</th>\n",
       "      <th>Type</th>\n",
       "    </tr>\n",
       "  </thead>\n",
       "  <tbody>\n",
       "    <tr>\n",
       "      <th>32</th>\n",
       "      <td>60</td>\n",
       "      <td>'2020/12/12'</td>\n",
       "      <td>100</td>\n",
       "      <td>120</td>\n",
       "      <td>250.7</td>\n",
       "      <td>Heavy</td>\n",
       "    </tr>\n",
       "  </tbody>\n",
       "</table>\n",
       "</div>"
      ],
      "text/plain": [
       "    Duration          Date  Pulse  Maxpulse  Calories   Type\n",
       "32        60  '2020/12/12'    100       120     250.7  Heavy"
      ]
     },
     "execution_count": 177,
     "metadata": {},
     "output_type": "execute_result"
    }
   ],
   "source": [
    "health_data[mask]"
   ]
  },
  {
   "cell_type": "code",
   "execution_count": 178,
   "id": "f527630e",
   "metadata": {},
   "outputs": [],
   "source": [
    "health_data = health_data.drop_duplicates()"
   ]
  },
  {
   "cell_type": "code",
   "execution_count": 179,
   "id": "2121e855",
   "metadata": {},
   "outputs": [
    {
     "data": {
      "text/plain": [
       "np.int64(0)"
      ]
     },
     "execution_count": 179,
     "metadata": {},
     "output_type": "execute_result"
    }
   ],
   "source": [
    "health_data.duplicated().sum()"
   ]
  },
  {
   "cell_type": "code",
   "execution_count": 180,
   "id": "10d028e1",
   "metadata": {},
   "outputs": [
    {
     "name": "stdout",
     "output_type": "stream",
     "text": [
      "<class 'pandas.core.frame.DataFrame'>\n",
      "Index: 31 entries, 0 to 31\n",
      "Data columns (total 6 columns):\n",
      " #   Column    Non-Null Count  Dtype  \n",
      "---  ------    --------------  -----  \n",
      " 0   Duration  31 non-null     int64  \n",
      " 1   Date      31 non-null     object \n",
      " 2   Pulse     31 non-null     int64  \n",
      " 3   Maxpulse  31 non-null     int64  \n",
      " 4   Calories  31 non-null     float64\n",
      " 5   Type      31 non-null     object \n",
      "dtypes: float64(1), int64(3), object(2)\n",
      "memory usage: 1.7+ KB\n"
     ]
    }
   ],
   "source": [
    "health_data.info()"
   ]
  },
  {
   "cell_type": "markdown",
   "id": "49eabd57",
   "metadata": {},
   "source": [
    "### Convert Data types"
   ]
  },
  {
   "cell_type": "code",
   "execution_count": 181,
   "id": "e073f187",
   "metadata": {},
   "outputs": [
    {
     "name": "stdout",
     "output_type": "stream",
     "text": [
      "<class 'pandas.core.frame.DataFrame'>\n",
      "Index: 31 entries, 0 to 31\n",
      "Data columns (total 6 columns):\n",
      " #   Column    Non-Null Count  Dtype         \n",
      "---  ------    --------------  -----         \n",
      " 0   Duration  31 non-null     int64         \n",
      " 1   Date      31 non-null     datetime64[ns]\n",
      " 2   Pulse     31 non-null     int64         \n",
      " 3   Maxpulse  31 non-null     int64         \n",
      " 4   Calories  31 non-null     float64       \n",
      " 5   Type      31 non-null     object        \n",
      "dtypes: datetime64[ns](1), float64(1), int64(3), object(1)\n",
      "memory usage: 1.7+ KB\n"
     ]
    }
   ],
   "source": [
    "health_data ['Date'] = health_data['Date'].astype('datetime64[ns]')\n",
    "health_data.info()"
   ]
  },
  {
   "cell_type": "markdown",
   "id": "9c192394",
   "metadata": {},
   "source": [
    "### Clear Out layer of Dataset"
   ]
  },
  {
   "cell_type": "code",
   "execution_count": 182,
   "id": "74fe8bea",
   "metadata": {},
   "outputs": [
    {
     "name": "stdout",
     "output_type": "stream",
     "text": [
      "100.0 107.0\n",
      "89.5 117.5\n"
     ]
    }
   ],
   "source": [
    "''' \n",
    "InterQuartile Range(IQR)\n",
    "IQR = Q3 - Q1 \n",
    "L (lower bound) = (Q1 - 1.5 ) * IQR\n",
    "U (upper bound) = (Q3 + 1.5 ) * IQR\n",
    "'''\n",
    "\n",
    "Q1 = health_data['Pulse'].quantile(0.25)\n",
    "Q3 = health_data['Pulse'].quantile(0.75)\n",
    "\n",
    "IQR = Q3 - Q1\n",
    "\n",
    "L = Q1 - 1.5 * IQR\n",
    "U = Q3 + 1.5 * IQR\n",
    "\n",
    "print(Q1,Q3)\n",
    "print(L, U)\n"
   ]
  },
  {
   "cell_type": "code",
   "execution_count": 183,
   "id": "9f1b0f31",
   "metadata": {},
   "outputs": [
    {
     "data": {
      "text/html": [
       "<div>\n",
       "<style scoped>\n",
       "    .dataframe tbody tr th:only-of-type {\n",
       "        vertical-align: middle;\n",
       "    }\n",
       "\n",
       "    .dataframe tbody tr th {\n",
       "        vertical-align: top;\n",
       "    }\n",
       "\n",
       "    .dataframe thead th {\n",
       "        text-align: right;\n",
       "    }\n",
       "</style>\n",
       "<table border=\"1\" class=\"dataframe\">\n",
       "  <thead>\n",
       "    <tr style=\"text-align: right;\">\n",
       "      <th></th>\n",
       "      <th>Duration</th>\n",
       "      <th>Date</th>\n",
       "      <th>Pulse</th>\n",
       "      <th>Maxpulse</th>\n",
       "      <th>Calories</th>\n",
       "      <th>Type</th>\n",
       "    </tr>\n",
       "  </thead>\n",
       "  <tbody>\n",
       "    <tr>\n",
       "      <th>23</th>\n",
       "      <td>60</td>\n",
       "      <td>2020-12-23</td>\n",
       "      <td>130</td>\n",
       "      <td>101</td>\n",
       "      <td>300.0</td>\n",
       "      <td>Heavy</td>\n",
       "    </tr>\n",
       "  </tbody>\n",
       "</table>\n",
       "</div>"
      ],
      "text/plain": [
       "    Duration       Date  Pulse  Maxpulse  Calories   Type\n",
       "23        60 2020-12-23    130       101     300.0  Heavy"
      ]
     },
     "execution_count": 183,
     "metadata": {},
     "output_type": "execute_result"
    }
   ],
   "source": [
    "non_Outlier_mask = health_data['Pulse'].between(L,U)\n",
    "Outlier_mask = ~non_Outlier_mask\n",
    "\n",
    "health_data[Outlier_mask]"
   ]
  },
  {
   "cell_type": "code",
   "execution_count": 184,
   "id": "1f46209f",
   "metadata": {},
   "outputs": [
    {
     "data": {
      "text/html": [
       "<div>\n",
       "<style scoped>\n",
       "    .dataframe tbody tr th:only-of-type {\n",
       "        vertical-align: middle;\n",
       "    }\n",
       "\n",
       "    .dataframe tbody tr th {\n",
       "        vertical-align: top;\n",
       "    }\n",
       "\n",
       "    .dataframe thead th {\n",
       "        text-align: right;\n",
       "    }\n",
       "</style>\n",
       "<table border=\"1\" class=\"dataframe\">\n",
       "  <thead>\n",
       "    <tr style=\"text-align: right;\">\n",
       "      <th></th>\n",
       "      <th>Duration</th>\n",
       "      <th>Date</th>\n",
       "      <th>Pulse</th>\n",
       "      <th>Maxpulse</th>\n",
       "      <th>Calories</th>\n",
       "      <th>Type</th>\n",
       "    </tr>\n",
       "  </thead>\n",
       "  <tbody>\n",
       "    <tr>\n",
       "      <th>0</th>\n",
       "      <td>60</td>\n",
       "      <td>2020-12-01</td>\n",
       "      <td>110</td>\n",
       "      <td>130</td>\n",
       "      <td>409.1</td>\n",
       "      <td>Easy</td>\n",
       "    </tr>\n",
       "    <tr>\n",
       "      <th>1</th>\n",
       "      <td>60</td>\n",
       "      <td>2020-12-02</td>\n",
       "      <td>117</td>\n",
       "      <td>145</td>\n",
       "      <td>479.0</td>\n",
       "      <td>Moderate</td>\n",
       "    </tr>\n",
       "    <tr>\n",
       "      <th>2</th>\n",
       "      <td>60</td>\n",
       "      <td>2020-12-03</td>\n",
       "      <td>103</td>\n",
       "      <td>135</td>\n",
       "      <td>340.0</td>\n",
       "      <td>Moderate</td>\n",
       "    </tr>\n",
       "    <tr>\n",
       "      <th>3</th>\n",
       "      <td>45</td>\n",
       "      <td>2020-12-04</td>\n",
       "      <td>109</td>\n",
       "      <td>175</td>\n",
       "      <td>282.4</td>\n",
       "      <td>Moderate</td>\n",
       "    </tr>\n",
       "    <tr>\n",
       "      <th>4</th>\n",
       "      <td>45</td>\n",
       "      <td>2020-12-05</td>\n",
       "      <td>117</td>\n",
       "      <td>148</td>\n",
       "      <td>406.0</td>\n",
       "      <td>Heavy</td>\n",
       "    </tr>\n",
       "  </tbody>\n",
       "</table>\n",
       "</div>"
      ],
      "text/plain": [
       "   Duration       Date  Pulse  Maxpulse  Calories      Type\n",
       "0        60 2020-12-01    110       130     409.1      Easy\n",
       "1        60 2020-12-02    117       145     479.0  Moderate\n",
       "2        60 2020-12-03    103       135     340.0  Moderate\n",
       "3        45 2020-12-04    109       175     282.4  Moderate\n",
       "4        45 2020-12-05    117       148     406.0     Heavy"
      ]
     },
     "execution_count": 184,
     "metadata": {},
     "output_type": "execute_result"
    }
   ],
   "source": [
    "health_data = health_data[non_Outlier_mask]\n",
    "health_data.head()"
   ]
  },
  {
   "cell_type": "markdown",
   "id": "4963f710",
   "metadata": {},
   "source": [
    "### Exploratory Data Analysis"
   ]
  },
  {
   "cell_type": "code",
   "execution_count": 189,
   "id": "b036a18e",
   "metadata": {},
   "outputs": [
    {
     "data": {
      "text/html": [
       "<div>\n",
       "<style scoped>\n",
       "    .dataframe tbody tr th:only-of-type {\n",
       "        vertical-align: middle;\n",
       "    }\n",
       "\n",
       "    .dataframe tbody tr th {\n",
       "        vertical-align: top;\n",
       "    }\n",
       "\n",
       "    .dataframe thead th {\n",
       "        text-align: right;\n",
       "    }\n",
       "</style>\n",
       "<table border=\"1\" class=\"dataframe\">\n",
       "  <thead>\n",
       "    <tr style=\"text-align: right;\">\n",
       "      <th></th>\n",
       "      <th>Duration</th>\n",
       "      <th>Date</th>\n",
       "      <th>Pulse</th>\n",
       "      <th>Maxpulse</th>\n",
       "      <th>Calories</th>\n",
       "    </tr>\n",
       "  </thead>\n",
       "  <tbody>\n",
       "    <tr>\n",
       "      <th>count</th>\n",
       "      <td>30.000000</td>\n",
       "      <td>30</td>\n",
       "      <td>30.000000</td>\n",
       "      <td>30.000000</td>\n",
       "      <td>30.000000</td>\n",
       "    </tr>\n",
       "    <tr>\n",
       "      <th>mean</th>\n",
       "      <td>69.500000</td>\n",
       "      <td>2020-12-15 10:24:00</td>\n",
       "      <td>102.733333</td>\n",
       "      <td>129.733333</td>\n",
       "      <td>305.475914</td>\n",
       "    </tr>\n",
       "    <tr>\n",
       "      <th>min</th>\n",
       "      <td>30.000000</td>\n",
       "      <td>2020-12-01 00:00:00</td>\n",
       "      <td>90.000000</td>\n",
       "      <td>112.000000</td>\n",
       "      <td>195.100000</td>\n",
       "    </tr>\n",
       "    <tr>\n",
       "      <th>25%</th>\n",
       "      <td>60.000000</td>\n",
       "      <td>2020-12-08 06:00:00</td>\n",
       "      <td>100.000000</td>\n",
       "      <td>120.750000</td>\n",
       "      <td>250.700000</td>\n",
       "    </tr>\n",
       "    <tr>\n",
       "      <th>50%</th>\n",
       "      <td>60.000000</td>\n",
       "      <td>2020-12-14 12:00:00</td>\n",
       "      <td>102.500000</td>\n",
       "      <td>128.500000</td>\n",
       "      <td>300.000000</td>\n",
       "    </tr>\n",
       "    <tr>\n",
       "      <th>75%</th>\n",
       "      <td>60.000000</td>\n",
       "      <td>2020-12-23 06:00:00</td>\n",
       "      <td>105.750000</td>\n",
       "      <td>132.750000</td>\n",
       "      <td>343.975000</td>\n",
       "    </tr>\n",
       "    <tr>\n",
       "      <th>max</th>\n",
       "      <td>450.000000</td>\n",
       "      <td>2020-12-31 00:00:00</td>\n",
       "      <td>117.000000</td>\n",
       "      <td>175.000000</td>\n",
       "      <td>479.000000</td>\n",
       "    </tr>\n",
       "    <tr>\n",
       "      <th>std</th>\n",
       "      <td>72.258516</td>\n",
       "      <td>NaN</td>\n",
       "      <td>6.351396</td>\n",
       "      <td>12.241629</td>\n",
       "      <td>65.860156</td>\n",
       "    </tr>\n",
       "  </tbody>\n",
       "</table>\n",
       "</div>"
      ],
      "text/plain": [
       "         Duration                 Date       Pulse    Maxpulse    Calories\n",
       "count   30.000000                   30   30.000000   30.000000   30.000000\n",
       "mean    69.500000  2020-12-15 10:24:00  102.733333  129.733333  305.475914\n",
       "min     30.000000  2020-12-01 00:00:00   90.000000  112.000000  195.100000\n",
       "25%     60.000000  2020-12-08 06:00:00  100.000000  120.750000  250.700000\n",
       "50%     60.000000  2020-12-14 12:00:00  102.500000  128.500000  300.000000\n",
       "75%     60.000000  2020-12-23 06:00:00  105.750000  132.750000  343.975000\n",
       "max    450.000000  2020-12-31 00:00:00  117.000000  175.000000  479.000000\n",
       "std     72.258516                  NaN    6.351396   12.241629   65.860156"
      ]
     },
     "execution_count": 189,
     "metadata": {},
     "output_type": "execute_result"
    }
   ],
   "source": [
    "health_data.describe()"
   ]
  },
  {
   "cell_type": "code",
   "execution_count": 191,
   "id": "e772a78c",
   "metadata": {},
   "outputs": [
    {
     "data": {
      "text/plain": [
       "<Axes: xlabel='Pulse'>"
      ]
     },
     "execution_count": 191,
     "metadata": {},
     "output_type": "execute_result"
    },
    {
     "data": {
      "image/png": "[encoded data removed]",
      "text/plain": [
       "<Figure size 640x480 with 1 Axes>"
      ]
     },
     "metadata": {},
     "output_type": "display_data"
    }
   ],
   "source": [
    "''' plot '''\n",
    "health_data.plot(\n",
    "    kind='line',\n",
    "    x='Pulse'\n",
    ")\n",
    "\n"
   ]
  },
  {
   "cell_type": "markdown",
   "id": "a66b179a",
   "metadata": {},
   "source": [
    "### Data Transformation"
   ]
  },
  {
   "cell_type": "code",
   "execution_count": 197,
   "id": "0d4c6680",
   "metadata": {},
   "outputs": [
    {
     "data": {
      "text/html": [
       "<div>\n",
       "<style scoped>\n",
       "    .dataframe tbody tr th:only-of-type {\n",
       "        vertical-align: middle;\n",
       "    }\n",
       "\n",
       "    .dataframe tbody tr th {\n",
       "        vertical-align: top;\n",
       "    }\n",
       "\n",
       "    .dataframe thead th {\n",
       "        text-align: right;\n",
       "    }\n",
       "</style>\n",
       "<table border=\"1\" class=\"dataframe\">\n",
       "  <thead>\n",
       "    <tr style=\"text-align: right;\">\n",
       "      <th></th>\n",
       "      <th>Duration</th>\n",
       "      <th>Date</th>\n",
       "      <th>Pulse</th>\n",
       "      <th>Maxpulse</th>\n",
       "      <th>Calories</th>\n",
       "      <th>Type</th>\n",
       "    </tr>\n",
       "  </thead>\n",
       "  <tbody>\n",
       "    <tr>\n",
       "      <th>0</th>\n",
       "      <td>-0.131472</td>\n",
       "      <td>2020-12-01</td>\n",
       "      <td>1.144105</td>\n",
       "      <td>0.021784</td>\n",
       "      <td>1.573396</td>\n",
       "      <td>Easy</td>\n",
       "    </tr>\n",
       "    <tr>\n",
       "      <th>1</th>\n",
       "      <td>-0.131472</td>\n",
       "      <td>2020-12-02</td>\n",
       "      <td>2.246225</td>\n",
       "      <td>1.247111</td>\n",
       "      <td>2.634735</td>\n",
       "      <td>Moderate</td>\n",
       "    </tr>\n",
       "    <tr>\n",
       "      <th>2</th>\n",
       "      <td>-0.131472</td>\n",
       "      <td>2020-12-03</td>\n",
       "      <td>0.041986</td>\n",
       "      <td>0.430226</td>\n",
       "      <td>0.524203</td>\n",
       "      <td>Moderate</td>\n",
       "    </tr>\n",
       "    <tr>\n",
       "      <th>3</th>\n",
       "      <td>-0.339060</td>\n",
       "      <td>2020-12-04</td>\n",
       "      <td>0.986660</td>\n",
       "      <td>3.697765</td>\n",
       "      <td>-0.350377</td>\n",
       "      <td>Moderate</td>\n",
       "    </tr>\n",
       "    <tr>\n",
       "      <th>4</th>\n",
       "      <td>-0.339060</td>\n",
       "      <td>2020-12-05</td>\n",
       "      <td>2.246225</td>\n",
       "      <td>1.492176</td>\n",
       "      <td>1.526326</td>\n",
       "      <td>Heavy</td>\n",
       "    </tr>\n",
       "  </tbody>\n",
       "</table>\n",
       "</div>"
      ],
      "text/plain": [
       "   Duration       Date     Pulse  Maxpulse  Calories      Type\n",
       "0 -0.131472 2020-12-01  1.144105  0.021784  1.573396      Easy\n",
       "1 -0.131472 2020-12-02  2.246225  1.247111  2.634735  Moderate\n",
       "2 -0.131472 2020-12-03  0.041986  0.430226  0.524203  Moderate\n",
       "3 -0.339060 2020-12-04  0.986660  3.697765 -0.350377  Moderate\n",
       "4 -0.339060 2020-12-05  2.246225  1.492176  1.526326     Heavy"
      ]
     },
     "execution_count": 197,
     "metadata": {},
     "output_type": "execute_result"
    }
   ],
   "source": [
    "'''\n",
    "Data can Numeric or categorical\n",
    "\n",
    "Numeric : We need to normalize out data\n",
    "Categorical : we need to encode categorical data\n",
    "'''\n",
    "def normalize(colum):\n",
    "    mean = colum.mean()\n",
    "    std = colum.std()\n",
    "    return (colum - mean )/ std\n",
    "\n",
    "\n",
    "health_data['Calories'] = health_data['Calories'].agg(normalize)\n",
    "health_data['Duration'] = health_data['Duration'].agg(normalize)\n",
    "health_data['Pulse'] = health_data['Pulse'].agg(normalize)\n",
    "health_data['Maxpulse'] = health_data['Maxpulse'].agg(normalize)\n",
    "\n",
    "health_data.head()"
   ]
  },
  {
   "cell_type": "code",
   "execution_count": 199,
   "id": "9edde7f6",
   "metadata": {},
   "outputs": [
    {
     "data": {
      "text/plain": [
       "Type\n",
       "Moderate    14\n",
       "Heavy       12\n",
       "Easy         4\n",
       "Name: count, dtype: int64"
      ]
     },
     "execution_count": 199,
     "metadata": {},
     "output_type": "execute_result"
    }
   ],
   "source": [
    "'''  \n",
    "Encoding categorical data\n",
    "- One hot encoding (useing pandas & sklearn)\n",
    "- label encoding\n",
    "'''\n",
    "health_data['Type'].value_counts()"
   ]
  },
  {
   "cell_type": "code",
   "execution_count": 201,
   "id": "df517e6c",
   "metadata": {},
   "outputs": [
    {
     "data": {
      "text/html": [
       "<div>\n",
       "<style scoped>\n",
       "    .dataframe tbody tr th:only-of-type {\n",
       "        vertical-align: middle;\n",
       "    }\n",
       "\n",
       "    .dataframe tbody tr th {\n",
       "        vertical-align: top;\n",
       "    }\n",
       "\n",
       "    .dataframe thead th {\n",
       "        text-align: right;\n",
       "    }\n",
       "</style>\n",
       "<table border=\"1\" class=\"dataframe\">\n",
       "  <thead>\n",
       "    <tr style=\"text-align: right;\">\n",
       "      <th></th>\n",
       "      <th>Duration</th>\n",
       "      <th>Date</th>\n",
       "      <th>Pulse</th>\n",
       "      <th>Maxpulse</th>\n",
       "      <th>Calories</th>\n",
       "      <th>Type_Easy</th>\n",
       "      <th>Type_Heavy</th>\n",
       "      <th>Type_Moderate</th>\n",
       "    </tr>\n",
       "  </thead>\n",
       "  <tbody>\n",
       "    <tr>\n",
       "      <th>0</th>\n",
       "      <td>-0.131472</td>\n",
       "      <td>2020-12-01</td>\n",
       "      <td>1.144105</td>\n",
       "      <td>0.021784</td>\n",
       "      <td>1.573396</td>\n",
       "      <td>True</td>\n",
       "      <td>False</td>\n",
       "      <td>False</td>\n",
       "    </tr>\n",
       "    <tr>\n",
       "      <th>1</th>\n",
       "      <td>-0.131472</td>\n",
       "      <td>2020-12-02</td>\n",
       "      <td>2.246225</td>\n",
       "      <td>1.247111</td>\n",
       "      <td>2.634735</td>\n",
       "      <td>False</td>\n",
       "      <td>False</td>\n",
       "      <td>True</td>\n",
       "    </tr>\n",
       "    <tr>\n",
       "      <th>2</th>\n",
       "      <td>-0.131472</td>\n",
       "      <td>2020-12-03</td>\n",
       "      <td>0.041986</td>\n",
       "      <td>0.430226</td>\n",
       "      <td>0.524203</td>\n",
       "      <td>False</td>\n",
       "      <td>False</td>\n",
       "      <td>True</td>\n",
       "    </tr>\n",
       "    <tr>\n",
       "      <th>3</th>\n",
       "      <td>-0.339060</td>\n",
       "      <td>2020-12-04</td>\n",
       "      <td>0.986660</td>\n",
       "      <td>3.697765</td>\n",
       "      <td>-0.350377</td>\n",
       "      <td>False</td>\n",
       "      <td>False</td>\n",
       "      <td>True</td>\n",
       "    </tr>\n",
       "    <tr>\n",
       "      <th>4</th>\n",
       "      <td>-0.339060</td>\n",
       "      <td>2020-12-05</td>\n",
       "      <td>2.246225</td>\n",
       "      <td>1.492176</td>\n",
       "      <td>1.526326</td>\n",
       "      <td>False</td>\n",
       "      <td>True</td>\n",
       "      <td>False</td>\n",
       "    </tr>\n",
       "  </tbody>\n",
       "</table>\n",
       "</div>"
      ],
      "text/plain": [
       "   Duration       Date     Pulse  Maxpulse  Calories  Type_Easy  Type_Heavy  \\\n",
       "0 -0.131472 2020-12-01  1.144105  0.021784  1.573396       True       False   \n",
       "1 -0.131472 2020-12-02  2.246225  1.247111  2.634735      False       False   \n",
       "2 -0.131472 2020-12-03  0.041986  0.430226  0.524203      False       False   \n",
       "3 -0.339060 2020-12-04  0.986660  3.697765 -0.350377      False       False   \n",
       "4 -0.339060 2020-12-05  2.246225  1.492176  1.526326      False        True   \n",
       "\n",
       "   Type_Moderate  \n",
       "0          False  \n",
       "1           True  \n",
       "2           True  \n",
       "3           True  \n",
       "4          False  "
      ]
     },
     "execution_count": 201,
     "metadata": {},
     "output_type": "execute_result"
    }
   ],
   "source": [
    "'''\n",
    "One hot encoding\n",
    "category = type\n",
    "value = Moderate , Heavy, Easy\n",
    "\n",
    "Moderate = [1, 0, 0]\n",
    "Heavy    = [0, 1, 0]\n",
    "Easy     = [0, 0, 1]\n",
    "'''\n",
    "\n",
    "health_data_One_hot_encoding = pd.get_dummies(\n",
    "    health_data, \n",
    "    columns=['Type'],\n",
    "    sparse=True\n",
    ")\n",
    "\n",
    "health_data_One_hot_encoding.head()"
   ]
  },
  {
   "cell_type": "code",
   "execution_count": 204,
   "id": "eb91aa80",
   "metadata": {},
   "outputs": [
    {
     "data": {
      "text/html": [
       "<div>\n",
       "<style scoped>\n",
       "    .dataframe tbody tr th:only-of-type {\n",
       "        vertical-align: middle;\n",
       "    }\n",
       "\n",
       "    .dataframe tbody tr th {\n",
       "        vertical-align: top;\n",
       "    }\n",
       "\n",
       "    .dataframe thead th {\n",
       "        text-align: right;\n",
       "    }\n",
       "</style>\n",
       "<table border=\"1\" class=\"dataframe\">\n",
       "  <thead>\n",
       "    <tr style=\"text-align: right;\">\n",
       "      <th></th>\n",
       "      <th>Duration</th>\n",
       "      <th>Date</th>\n",
       "      <th>Pulse</th>\n",
       "      <th>Maxpulse</th>\n",
       "      <th>Calories</th>\n",
       "      <th>Type</th>\n",
       "      <th>label_encoded_type</th>\n",
       "    </tr>\n",
       "  </thead>\n",
       "  <tbody>\n",
       "    <tr>\n",
       "      <th>0</th>\n",
       "      <td>-0.131472</td>\n",
       "      <td>2020-12-01</td>\n",
       "      <td>1.144105</td>\n",
       "      <td>0.021784</td>\n",
       "      <td>1.573396</td>\n",
       "      <td>Easy</td>\n",
       "      <td>0</td>\n",
       "    </tr>\n",
       "    <tr>\n",
       "      <th>1</th>\n",
       "      <td>-0.131472</td>\n",
       "      <td>2020-12-02</td>\n",
       "      <td>2.246225</td>\n",
       "      <td>1.247111</td>\n",
       "      <td>2.634735</td>\n",
       "      <td>Moderate</td>\n",
       "      <td>1</td>\n",
       "    </tr>\n",
       "    <tr>\n",
       "      <th>2</th>\n",
       "      <td>-0.131472</td>\n",
       "      <td>2020-12-03</td>\n",
       "      <td>0.041986</td>\n",
       "      <td>0.430226</td>\n",
       "      <td>0.524203</td>\n",
       "      <td>Moderate</td>\n",
       "      <td>1</td>\n",
       "    </tr>\n",
       "    <tr>\n",
       "      <th>3</th>\n",
       "      <td>-0.339060</td>\n",
       "      <td>2020-12-04</td>\n",
       "      <td>0.986660</td>\n",
       "      <td>3.697765</td>\n",
       "      <td>-0.350377</td>\n",
       "      <td>Moderate</td>\n",
       "      <td>1</td>\n",
       "    </tr>\n",
       "    <tr>\n",
       "      <th>4</th>\n",
       "      <td>-0.339060</td>\n",
       "      <td>2020-12-05</td>\n",
       "      <td>2.246225</td>\n",
       "      <td>1.492176</td>\n",
       "      <td>1.526326</td>\n",
       "      <td>Heavy</td>\n",
       "      <td>2</td>\n",
       "    </tr>\n",
       "  </tbody>\n",
       "</table>\n",
       "</div>"
      ],
      "text/plain": [
       "   Duration       Date     Pulse  Maxpulse  Calories      Type  \\\n",
       "0 -0.131472 2020-12-01  1.144105  0.021784  1.573396      Easy   \n",
       "1 -0.131472 2020-12-02  2.246225  1.247111  2.634735  Moderate   \n",
       "2 -0.131472 2020-12-03  0.041986  0.430226  0.524203  Moderate   \n",
       "3 -0.339060 2020-12-04  0.986660  3.697765 -0.350377  Moderate   \n",
       "4 -0.339060 2020-12-05  2.246225  1.492176  1.526326     Heavy   \n",
       "\n",
       "   label_encoded_type  \n",
       "0                   0  \n",
       "1                   1  \n",
       "2                   1  \n",
       "3                   1  \n",
       "4                   2  "
      ]
     },
     "execution_count": 204,
     "metadata": {},
     "output_type": "execute_result"
    }
   ],
   "source": [
    "\n",
    "'''\n",
    "Label encoding\n",
    "\n",
    "category - type\n",
    "value - moderate, Heavy, Easy\n",
    "\n",
    "Easy = 0\n",
    "moderate = 1\n",
    "Heavy = 2\n",
    "'''\n",
    "\n",
    "health_data['label_encoded_type'] = pd.Categorical(\n",
    "    health_data['Type'],\n",
    "    categories=['Easy', 'Moderate', 'Heavy'],\n",
    "    ordered= True\n",
    ").codes\n",
    "\n",
    "health_data.head()\n"
   ]
  },
  {
   "cell_type": "markdown",
   "id": "1793515f",
   "metadata": {},
   "source": [
    "### Data Spliting"
   ]
  },
  {
   "cell_type": "code",
   "execution_count": 206,
   "id": "76424049",
   "metadata": {},
   "outputs": [
    {
     "data": {
      "text/plain": [
       "' \\nSplit data into train test validation set\\n'"
      ]
     },
     "execution_count": 206,
     "metadata": {},
     "output_type": "execute_result"
    }
   ],
   "source": [
    "''' \n",
    "Split data into train test validation set\n",
    "'''"
   ]
  },
  {
   "cell_type": "markdown",
   "id": "fd285180",
   "metadata": {},
   "source": [
    "### Thank You "
   ]
  }
 ],
 "metadata": {
  "kernelspec": {
   "display_name": "Python 3",
   "language": "python",
   "name": "python3"
  },
  "language_info": {
   "codemirror_mode": {
    "name": "ipython",
    "version": 3
   },
   "file_extension": ".py",
   "mimetype": "text/x-python",
   "name": "python",
   "nbconvert_exporter": "python",
   "pygments_lexer": "ipython3",
   "version": "3.12.3"
  }
 },
 "nbformat": 4,
 "nbformat_minor": 5
}
